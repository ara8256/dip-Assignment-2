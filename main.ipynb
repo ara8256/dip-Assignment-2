{
 "cells": [
  {
   "cell_type": "code",
   "execution_count": 1,
   "metadata": {},
   "outputs": [],
   "source": [
    "import cv2\n",
    "import numpy as np\n",
    "img = cv2.imread(\"Image_01.bmp\")"
   ]
  },
  {
   "cell_type": "code",
   "execution_count": 2,
   "metadata": {},
   "outputs": [],
   "source": [
    "img = cv2.cvtColor(img, cv2.COLOR_BGR2GRAY)\n",
    "_, binary_img = cv2.threshold(img, 110, 255, cv2.THRESH_BINARY)"
   ]
  },
  {
   "cell_type": "code",
   "execution_count": 3,
   "metadata": {},
   "outputs": [],
   "source": [
    "row,col = img.shape\n",
    "\n",
    "\n",
    "last_label = 20\n",
    "\n",
    "pixel_array = []\n",
    "\n",
    "index=0"
   ]
  },
  {
   "cell_type": "code",
   "execution_count": 4,
   "metadata": {},
   "outputs": [],
   "source": [
    "for i in range(row):\n",
    "    for j in range(col):\n",
    "        if (binary_img[i,j]>200):\n",
    "            \n",
    "            if(binary_img[i,j-1]!=0 and binary_img[i,j-1]!=255):\n",
    "                binary_img[i,j]=binary_img[i,j-1]\n",
    "            elif(binary_img[i-1,j]!=0 and binary_img[i-1,j]!=255):\n",
    "                binary_img[i,j] = binary_img[i-1,j]\n",
    "            elif(binary_img[i-1,j+1]!=0 and binary_img[i-1,j+1]!=255):\n",
    "                binary_img[i,j]= binary_img[i-1,j+1]\n",
    "            elif(binary_img[i-1,j-1]==0):\n",
    "                binary_img[i,j] = last_label\n",
    "                last_label = last_label+1"
   ]
  },
  {
   "cell_type": "code",
   "execution_count": 5,
   "metadata": {},
   "outputs": [],
   "source": [
    "for i in range(row):\n",
    "    for j in range(col):\n",
    "        \n",
    "        if (img[i,j]>0):\n",
    "            if(binary_img[i,j-1]!= 0):\n",
    "                binary_img = np.where(binary_img==binary_img[i,j], binary_img[i,j-1],binary_img)\n",
    "            if(binary_img[i-1,j]!=0):\n",
    "                binary_img = np.where(binary_img==binary_img[i,j], binary_img[i-1,j],binary_img)\n",
    "            if( (j+1)<col):\n",
    "                if(binary_img[i-1,j+1]!=0):\n",
    "                    binary_img =      np.where(binary_img==binary_img[i,j], binary_img[i-1,j+1],binary_img)\n",
    "            if(i+1<row and j-1>0):\n",
    "                if(binary_img[i+1,j-1]!=0):\n",
    "                   binary_img =   np.where(binary_img==binary_img[i,j], binary_img[i+1,j-1],binary_img)"
   ]
  },
  {
   "cell_type": "code",
   "execution_count": 6,
   "metadata": {},
   "outputs": [
    {
     "name": "stdout",
     "output_type": "stream",
     "text": [
      "[52, 64, 92, 99, 128, 135, 160, 163]\n"
     ]
    }
   ],
   "source": [
    "for i in range(row):\n",
    "    for j in range(col):\n",
    "        if (binary_img[i,j] != 0):\n",
    "            if (binary_img[i,j] not in pixel_array):\n",
    "                pixel_array.append(binary_img[i,j])\n",
    "            else:\n",
    "                continue\n",
    "\n",
    "print(pixel_array)"
   ]
  },
  {
   "cell_type": "code",
   "execution_count": 12,
   "metadata": {},
   "outputs": [
    {
     "name": "stdout",
     "output_type": "stream",
     "text": [
      "[245 107 105]\n",
      "[165 156 228]\n",
      "[209 190 146]\n",
      "[250 131 230]\n",
      "[137 202 165]\n",
      "[234 176 170]\n",
      "[244 103 221]\n",
      "[155 241 197]\n",
      "[[0 0 0 ... 0 0 0]\n",
      " [0 0 0 ... 0 0 0]\n",
      " [0 0 0 ... 0 0 0]\n",
      " ...\n",
      " [0 0 0 ... 0 0 0]\n",
      " [0 0 0 ... 0 0 0]\n",
      " [0 0 0 ... 0 0 0]]\n"
     ]
    },
    {
     "data": {
      "text/plain": [
       "-1"
      ]
     },
     "execution_count": 12,
     "metadata": {},
     "output_type": "execute_result"
    }
   ],
   "source": [
    "colored_img = cv2.cvtColor(binary_img, cv2.COLOR_GRAY2BGR)\n",
    "\n",
    "\n",
    "for i in pixel_array:\n",
    "    color = np.random.randint(100, 255, size=3) \n",
    "    print(color) \n",
    "    colored_img[binary_img == i] = color\n",
    "    \n",
    "cv2.imshow(\"image\",binary_img)\n",
    "cv2.imshow(\"rgb\",colored_img)\n",
    "print(img)\n",
    "cv2.waitKey(0)"
   ]
  }
 ],
 "metadata": {
  "kernelspec": {
   "display_name": "Python 3",
   "language": "python",
   "name": "python3"
  },
  "language_info": {
   "codemirror_mode": {
    "name": "ipython",
    "version": 3
   },
   "file_extension": ".py",
   "mimetype": "text/x-python",
   "name": "python",
   "nbconvert_exporter": "python",
   "pygments_lexer": "ipython3",
   "version": "3.11.0"
  }
 },
 "nbformat": 4,
 "nbformat_minor": 2
}
